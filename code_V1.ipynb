{
 "cells": [
  {
   "cell_type": "code",
   "execution_count": 1,
   "metadata": {},
   "outputs": [],
   "source": [
    "from time import time\n",
    "from itertools import zip_longest\n",
    "\n",
    "#Third Party Library\n",
    "from wallstreet import Stock, Call, Put\n",
    "from yahoo_fin import options\n",
    "from get_all_tickers import get_tickers as gt\n",
    "from get_all_tickers.get_tickers import Region"
   ]
  },
  {
   "cell_type": "code",
   "execution_count": 2,
   "metadata": {},
   "outputs": [],
   "source": [
    "def grouper(iterable, n, fillvalue=None):\n",
    "    \"Collect data into fixed-length chunks or blocks\"\n",
    "    # grouper('ABCDEFG', 3, 'x') --> ABC DEF Gxx\"\n",
    "    args = [iter(iterable)] * n\n",
    "    return zip_longest(*args, fillvalue=fillvalue)"
   ]
  },
  {
   "cell_type": "code",
   "execution_count": 3,
   "metadata": {},
   "outputs": [],
   "source": [
    "def infos( udlying,day,month,year,stockprice, offset):\n",
    "    \"\"\"\n",
    "    Group information\n",
    "\n",
    "    :param udlying: underlying stock object\n",
    "    :param day: int digits\n",
    "    :param month: int digits\n",
    "    :param year:\n",
    "    :param stockprice: stock price\n",
    "    :param offset: strike offset\n",
    "    :return: Tuple of all data\n",
    "    \"\"\"\n",
    "    u = Call(udlying, d=day, m=month, y=year, strike=stockprice+offset)\n",
    "    price = u.price\n",
    "    IV = u.implied_volatility()\n",
    "    v = u.vega()\n",
    "    g = u.gamma()\n",
    "    strike = u.strike\n",
    "    return (IV,v,g,price,strike)\n",
    "\n",
    "def moves(DTern,DTE,IV,IVn,v,g,price_move,offset):\n",
    "    \"\"\"\n",
    "    Calculte IV_AE, Vega Change, Gamma Change\n",
    "    :param DTern:\n",
    "    :param DTE:\n",
    "    :param IV:\n",
    "    :param IVn:\n",
    "    :param v:\n",
    "    :param g:\n",
    "    :param price_move:\n",
    "    :param offset:\n",
    "    :return: Tuple of the IV_AE, Vega Change, Gamma Change\n",
    "    \"\"\"\n",
    "    IV_AE = ((DTern/(DTern+DTE))*IV**2 + (DTE/(DTern+DTE))*IVn**2)**0.5\n",
    "    vega_change = v*(IV_AE-IV)*100\n",
    "    gamma_change = 0.5*g*(price_move+offset)**2\n",
    "    return (IV_AE,vega_change,gamma_change)"
   ]
  },
  {
   "cell_type": "code",
   "execution_count": 4,
   "metadata": {},
   "outputs": [],
   "source": [
    "optionable_list=[]\n",
    "def find_optionable_stocks(udlying):\n",
    "    \"\"\"\n",
    "    Check if the ticker is expired and add it to Global optional list\n",
    "    :param udlying:  Input Ticket\n",
    "    :return:  None\n",
    "    \"\"\"\n",
    "    global optionable_list\n",
    "\n",
    "    g = options.get_expiration_dates(udlying)\n",
    "    if len(g):\n",
    "        print(udlying)\n",
    "        optionable_list.append(udlying)"
   ]
  },
  {
   "cell_type": "code",
   "execution_count": 5,
   "metadata": {
    "pycharm": {
     "name": "#%%\n"
    }
   },
   "outputs": [],
   "source": [
    "## async libary\n",
    "import asyncio\n",
    "async def find_optoinable_stocks_async(udlying):\n",
    "    \"\"\"\n",
    "    Async verion of find_optionable_stocks\n",
    "    Check if the ticker is expired and add it to Global optional list\n",
    "    :param udlying: Input tickets\n",
    "    :return: None\n",
    "    \"\"\"\n",
    "    global optionable_list\n",
    "\n",
    "    g = options.get_expiration_dates(udlying)\n",
    "    if g:\n",
    "        print(udlying)\n",
    "        optionable_list.append(udlying)\n",
    "\n",
    "async def find_all_optoinable_stocks_async(udlyings):\n",
    "    \"\"\"\n",
    "    Get all stocks from names\n",
    "    :param udlyings: list of stock name\n",
    "    :return:  Nome\n",
    "    \"\"\"\n",
    "    tasks = []\n",
    "    for stock in udlyings:\n",
    "        task = asyncio.ensure_future(find_optoinable_stocks_async(stock))\n",
    "        tasks.append(task)\n",
    "    await asyncio.gather(*tasks,return_exceptions=False)\n",
    "\n",
    "\n",
    "# def find_optionable_stocks(udlying):\n",
    "#     g = Put(udlying).expirations\n",
    "#     if len(g) != 0:\n",
    "#         optionable_list.append(udlying)"
   ]
  },
  {
   "cell_type": "code",
   "execution_count": 6,
   "metadata": {
    "pycharm": {
     "name": "#%%\n"
    }
   },
   "outputs": [],
   "source": [
    "##Multiprocessing Libary\n",
    "import multiprocessing\n",
    "\n",
    "def find_all_optoinable_stocks_multiprocess(udlyings):\n",
    "    with multiprocessing.Pool() as pool:\n",
    "        pool.map(find_optionable_stocks,udlyings)\n"
   ]
  },
  {
   "cell_type": "code",
   "execution_count": 7,
   "metadata": {
    "scrolled": true
   },
   "outputs": [
    {
     "name": "stdout",
     "output_type": "stream",
     "text": [
      "YQ\n",
      "4003\n"
     ]
    }
   ],
   "source": [
    "list_of_tickers = gt.get_tickers_by_region(Region.NORTH_AMERICA)\n",
    "print(list_of_tickers[3])\n",
    "print(len(list_of_tickers))\n",
    "\n",
    "max_price = 200\n",
    "min_price = 50\n",
    "num_stocks = 10\n",
    "#optionable_list = find_optionable_stocks(list_of_tickers, num_stock)"
   ]
  },
  {
   "cell_type": "code",
   "execution_count": 8,
   "metadata": {
    "pycharm": {
     "name": "#%%\n"
    }
   },
   "outputs": [
    {
     "name": "stdout",
     "output_type": "stream",
     "text": [
      "TURN\n",
      "TXG\n",
      "FLWS\n",
      "ONEM\n",
      "['TURN', 'TXG', 'FLWS', 'ONEM']\n",
      "Time taken: 6.483306884765625\n"
     ]
    }
   ],
   "source": [
    "## Threading\n",
    "import concurrent.futures\n",
    "import threading\n",
    "\n",
    "optionable_list = list()\n",
    "\n",
    "start = time()\n",
    "with concurrent.futures.ThreadPoolExecutor(max_workers=5) as executor:\n",
    "    executor.map(find_optionable_stocks,list_of_tickers[1:10])\n",
    "    # for udlying in list_of_tickers[1:100]:\n",
    "    #     processes.append(executor.submit(find_optionable_stocks, udlying))\n",
    "\n",
    "# for ticker in list_of_tickers[1:10]:\n",
    "#     find_optionable_stocks(ticker)\n",
    "\n",
    "print(optionable_list)\n",
    "print(f'Time taken: {time() - start}')\n"
   ]
  },
  {
   "cell_type": "code",
   "execution_count": 9,
   "metadata": {},
   "outputs": [
    {
     "name": "stdout",
     "output_type": "stream",
     "text": [
      "TXG\n",
      "TURN\n",
      "FLWS\n",
      "ONEM\n",
      "['TXG', 'TURN', 'FLWS', 'ONEM']\n",
      "Time taken: 23.05554509162903\n"
     ]
    }
   ],
   "source": [
    "## Asyncio\n",
    "import nest_asyncio\n",
    "nest_asyncio.apply()\n",
    "optionable_list = list()\n",
    "\n",
    "start = time()\n",
    "\n",
    "asyncio.get_event_loop().run_until_complete(find_all_optoinable_stocks_async(list_of_tickers[1:10]))\n",
    "\n",
    "\n",
    "print(optionable_list)\n",
    "print(f'Time taken: {time() - start}')"
   ]
  },
  {
   "cell_type": "code",
   "execution_count": 10,
   "metadata": {
    "pycharm": {
     "name": "#%%\n"
    }
   },
   "outputs": [
    {
     "name": "stdout",
     "output_type": "stream",
     "text": [
      "TURN\n",
      "FLWS\n",
      "TXG\n",
      "ONEM\n",
      "[]\n",
      "Time taken: 5.59160304069519\n"
     ]
    }
   ],
   "source": [
    "#multiprocessing\n",
    "optionable_list = list()\n",
    "\n",
    "start = time()\n",
    "find_all_optoinable_stocks_multiprocess(list_of_tickers[1:10])\n",
    "\n",
    "print(optionable_list)\n",
    "print(f'Time taken: {time() - start}')"
   ]
  },
  {
   "cell_type": "code",
   "execution_count": 17,
   "metadata": {
    "pycharm": {
     "name": "#%%\n"
    }
   },
   "outputs": [
    {
     "name": "stdout",
     "output_type": "stream",
     "text": [
      "TXG\n",
      "TXG\n",
      "TXG\n",
      "TXG\n",
      "TURN\n",
      "ONEM\n",
      "FLWS\n",
      "TXG\n",
      "TURN\n",
      "FLWS\n",
      "ONEM\n",
      "FLWSTXG\n",
      "\n",
      "TURNONEM\n",
      "\n",
      "TURN\n",
      "TXG\n",
      "FLWS\n",
      "ONEM\n",
      "TWOU\n",
      "QFIN\n",
      "VNET\n",
      "SRCE\n",
      "ETNB\n",
      "JOBS\n",
      "TXG\n",
      "TURN\n",
      "FLWS\n",
      "ONEM\n",
      "SRCE\n",
      "VNET\n",
      "TWOU\n",
      "QFIN\n",
      "JOBS\n",
      "ETNB\n",
      "ONEM\n",
      "TXG\n",
      "TURN\n",
      "SRCE\n",
      "FLWS\n",
      "TWOUVNET\n",
      "\n",
      "QFIN\n",
      "JOBS\n",
      "ETNB\n"
     ]
    }
   ],
   "source": [
    "import matplotlib.pyplot as plt\n",
    "import numpy as np\n",
    "\n",
    "#Benchmark\n",
    "thread_results = list()\n",
    "async_reuslts = list()\n",
    "multiprocessing_results = list()\n",
    "\n",
    "# Test a function for 1, 10,20\n",
    "for n in (1,10,20):\n",
    "\n",
    "    ## threading\n",
    "    start = time()\n",
    "    optionable_list = list()\n",
    "    with concurrent.futures.ThreadPoolExecutor(max_workers=5) as executor:\n",
    "        executor.map(find_optionable_stocks,list_of_tickers[1:n+1])\n",
    "    thread_results.append((n,time() - start))\n",
    "\n",
    "    ##aync\n",
    "    start = time()\n",
    "    optionable_list = list()\n",
    "    asyncio.get_event_loop().run_until_complete(find_all_optoinable_stocks_async(list_of_tickers[1:n+1]))\n",
    "    async_reuslts.append((n,time() - start))\n",
    "\n",
    "    ##multiprocessing\n",
    "    start = time()\n",
    "    optionable_list = list()\n",
    "    find_all_optoinable_stocks_multiprocess(list_of_tickers[1:n+1])\n",
    "    multiprocessing_results.append((n,time()-start))"
   ]
  },
  {
   "cell_type": "code",
   "execution_count": 18,
   "metadata": {},
   "outputs": [
    {
     "data": {
      "image/png": "[encoded data removed]",
      "text/plain": [
       "<Figure size 432x288 with 1 Axes>"
      ]
     },
     "metadata": {
      "needs_background": "light"
     },
     "output_type": "display_data"
    }
   ],
   "source": [
    "##Plot timing results.\n",
    "plt.title('Performance Benchmark')\n",
    "plt.xlabel('Input size (number of stocks)')\n",
    "# plt.xticks(range(1, 3 + 1))\n",
    "plt.ylabel('Execution time (s)')\n",
    "plt.plot(*zip(*thread_results), label='Threading')\n",
    "plt.plot(*zip(*async_reuslts), label='Async ')\n",
    "plt.plot(*zip(*multiprocessing_results), label='multiprocessing')\n",
    "plt.legend()\n",
    "plt.show()"
   ]
  },
  {
   "cell_type": "code",
   "execution_count": 19,
   "metadata": {},
   "outputs": [
    {
     "data": {
      "text/plain": [
       "[(1, 3.7330400943756104), (10, 5.560855150222778), (20, 10.688799142837524)]"
      ]
     },
     "execution_count": 19,
     "metadata": {},
     "output_type": "execute_result"
    }
   ],
   "source": [
    "thread_results"
   ]
  },
  {
   "cell_type": "code",
   "execution_count": 20,
   "metadata": {},
   "outputs": [
    {
     "data": {
      "text/plain": [
       "[(1, 2.322359800338745), (10, 29.243816137313843), (20, 53.96411895751953)]"
      ]
     },
     "execution_count": 20,
     "metadata": {},
     "output_type": "execute_result"
    }
   ],
   "source": [
    "async_reuslts"
   ]
  },
  {
   "cell_type": "code",
   "execution_count": 21,
   "metadata": {},
   "outputs": [
    {
     "data": {
      "text/plain": [
       "[(1, 2.711322069168091), (10, 9.489286184310913), (20, 11.935796976089478)]"
      ]
     },
     "execution_count": 21,
     "metadata": {},
     "output_type": "execute_result"
    }
   ],
   "source": [
    "multiprocessing_results"
   ]
  },
  {
   "cell_type": "code",
   "execution_count": null,
   "metadata": {},
   "outputs": [],
   "source": []
  }
 ],
 "metadata": {
  "kernelspec": {
   "display_name": "Python 3",
   "language": "python",
   "name": "python3"
  },
  "language_info": {
   "codemirror_mode": {
    "name": "ipython",
    "version": 3
   },
   "file_extension": ".py",
   "mimetype": "text/x-python",
   "name": "python",
   "nbconvert_exporter": "python",
   "pygments_lexer": "ipython3",
   "version": "3.7.2"
  }
 },
 "nbformat": 4,
 "nbformat_minor": 2
}
