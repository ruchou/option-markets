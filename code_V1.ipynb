{
 "cells": [
  {
   "cell_type": "code",
   "execution_count": 1,
   "metadata": {},
   "outputs": [],
   "source": [
    "from yahoo_fin import options\n",
    "import yfinance as yf\n",
    "from wallstreet import Stock, Call, Put"
   ]
  },
  {
   "cell_type": "code",
   "execution_count": 2,
   "metadata": {},
   "outputs": [],
   "source": [
    "def infos( udlying,day,month,year,stockprice, offset):\n",
    "    u = Call(udlying, d=day, m=month, y=year, strike=stockprice+offset)\n",
    "    price = u.price\n",
    "    IV = u.implied_volatility()\n",
    "    v = u.vega()\n",
    "    g = u.gamma()\n",
    "    strike = u.strike\n",
    "    return (IV,v,g,price,strike)\n",
    "\n",
    "def moves(DTern,DTE,IV,IVn,v,g,price_move,offset):\n",
    "    IV_AE = ((DTern/(DTern+DTE))*IV**2 + (DTE/(DTern+DTE))*IVn**2)**0.5\n",
    "    vega_change = v*(IV_AE-IV)*100\n",
    "    gamma_change = 0.5*g*(price_move+offset)**2\n",
    "    return (IV_AE,vega_change,gamma_change)"
   ]
  },
  {
   "cell_type": "code",
   "execution_count": 3,
   "metadata": {},
   "outputs": [
    {
     "name": "stdout",
     "output_type": "stream",
     "text": [
      "46.36\n",
      "No options listed for given date, using 24-12-2020 instead\n",
      "['24-12-2020', '31-12-2020', '08-01-2021', '15-01-2021', '22-01-2021', '29-01-2021', '19-02-2021', '19-03-2021', '16-04-2021', '18-06-2021', '16-07-2021', '17-09-2021', '21-01-2022', '17-06-2022', '20-01-2023']\n",
      "No options listed for given date, using 24-12-2020 instead\n",
      "No options listed for given date, using 24-12-2020 instead\n",
      "55 0.01 55 0.01\n"
     ]
    },
    {
     "ename": "NameError",
     "evalue": "name 'IVn' is not defined",
     "output_type": "error",
     "traceback": [
      "\u001b[1;31m---------------------------------------------------------------------------\u001b[0m",
      "\u001b[1;31mNameError\u001b[0m                                 Traceback (most recent call last)",
      "\u001b[1;32m<ipython-input-3-d8eb7eb12508>\u001b[0m in \u001b[0;36m<module>\u001b[1;34m\u001b[0m\n\u001b[0;32m     19\u001b[0m \u001b[1;33m\u001b[0m\u001b[0m\n\u001b[0;32m     20\u001b[0m \u001b[0mprint\u001b[0m\u001b[1;33m(\u001b[0m\u001b[0mstrike2\u001b[0m\u001b[1;33m,\u001b[0m\u001b[0mprice2\u001b[0m\u001b[1;33m,\u001b[0m\u001b[0mstrike1\u001b[0m\u001b[1;33m,\u001b[0m\u001b[0mprice1\u001b[0m\u001b[1;33m)\u001b[0m\u001b[1;33m\u001b[0m\u001b[1;33m\u001b[0m\u001b[0m\n\u001b[1;32m---> 21\u001b[1;33m \u001b[0mprint\u001b[0m\u001b[1;33m(\u001b[0m\u001b[0mIV1\u001b[0m\u001b[1;33m,\u001b[0m\u001b[0mIV2\u001b[0m\u001b[1;33m,\u001b[0m\u001b[0mIVn\u001b[0m\u001b[1;33m)\u001b[0m\u001b[1;33m\u001b[0m\u001b[1;33m\u001b[0m\u001b[0m\n\u001b[0m",
      "\u001b[1;31mNameError\u001b[0m: name 'IVn' is not defined"
     ]
    }
   ],
   "source": [
    "\n",
    "udlying = \"INTC\"\n",
    "s = Stock(udlying)\n",
    "print(s.price)\n",
    "offset = 0\n",
    "\n",
    "g = Put(udlying)\n",
    "exps = g.expirations\n",
    "print(exps)\n",
    "\n",
    "\n",
    "\n",
    "IV2,v2,g2,price2,strike2 = infos( udlying,day=27,month=11,year=2020,stockprice=55, offset=0)\n",
    "IV1,v1,g1,price1,strike1 = infos( udlying,day=6,month=11,year=2020,stockprice=strike2, offset=0)\n",
    "DTern= 1\n",
    "DTE1 = 12\n",
    "DTE2 = 27\n",
    "\n",
    "spread_price = price2-price1\n",
    "\n",
    "print(strike2,price2,strike1,price1)\n",
    "print(IV1,IV2,IVn)"
   ]
  },
  {
   "cell_type": "code",
   "execution_count": 95,
   "metadata": {},
   "outputs": [
    {
     "name": "stdout",
     "output_type": "stream",
     "text": [
      "0.0 33.00 37.50 1.14\n",
      "2.6950000000000003 33.00 33.29 1.01\n",
      "5.390000000000001 33.00 20.65 0.63\n",
      "10.780000000000001 33.00 -29.88 -0.91\n"
     ]
    }
   ],
   "source": [
    "\n",
    "for price_move in (s.price*0,s.price*0.05,s.price*0.1,s.price*0.2):\n",
    "    IV1_AE, vega_change1,gamma_change1=moves(DTern,DTE1,IV1,IVn,v1,g1,price_move,offset)\n",
    "    IV2_AE, vega_change2,gamma_change2=moves(DTern,DTE2,IV2,IVn,v2,g2,price_move,offset)\n",
    "    profit = gamma_change2+vega_change2-gamma_change1-vega_change1\n",
    "    print(price_move, \"%.2f\" %(spread_price*100) , \"%.2f\" %(profit*100), \"%.2f\" %(profit/spread_price) )"
   ]
  },
  {
   "cell_type": "code",
   "execution_count": null,
   "metadata": {},
   "outputs": [],
   "source": []
  },
  {
   "cell_type": "code",
   "execution_count": null,
   "metadata": {},
   "outputs": [],
   "source": []
  },
  {
   "cell_type": "code",
   "execution_count": null,
   "metadata": {},
   "outputs": [],
   "source": []
  },
  {
   "cell_type": "code",
   "execution_count": null,
   "metadata": {},
   "outputs": [],
   "source": []
  },
  {
   "cell_type": "code",
   "execution_count": null,
   "metadata": {},
   "outputs": [],
   "source": []
  }
 ],
 "metadata": {
  "kernelspec": {
   "display_name": "Python 3",
   "language": "python",
   "name": "python3"
  },
  "language_info": {
   "codemirror_mode": {
    "name": "ipython",
    "version": 3
   },
   "file_extension": ".py",
   "mimetype": "text/x-python",
   "name": "python",
   "nbconvert_exporter": "python",
   "pygments_lexer": "ipython3",
   "version": "3.7.4"
  }
 },
 "nbformat": 4,
 "nbformat_minor": 2
}
